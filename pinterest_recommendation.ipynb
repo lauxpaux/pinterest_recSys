{
 "cells": [
  {
   "cell_type": "markdown",
   "id": "90f28234",
   "metadata": {},
   "source": [
    "# Pinterest Recommendation System\n",
    "## Using Surprise "
   ]
  },
  {
   "cell_type": "code",
   "execution_count": 1,
   "id": "b382c225",
   "metadata": {},
   "outputs": [],
   "source": [
    "import pandas as pd\n",
    "\n",
    "df = pd.read_csv(\"https://media.githubusercontent.com/media/lauxpaux/pinterest-recsys-dataset/main/pinterest.csv\")\n"
   ]
  },
  {
   "cell_type": "code",
   "execution_count": 2,
   "id": "a8160840",
   "metadata": {},
   "outputs": [
    {
     "data": {
      "text/html": [
       "<div>\n",
       "<style scoped>\n",
       "    .dataframe tbody tr th:only-of-type {\n",
       "        vertical-align: middle;\n",
       "    }\n",
       "\n",
       "    .dataframe tbody tr th {\n",
       "        vertical-align: top;\n",
       "    }\n",
       "\n",
       "    .dataframe thead th {\n",
       "        text-align: right;\n",
       "    }\n",
       "</style>\n",
       "<table border=\"1\" class=\"dataframe\">\n",
       "  <thead>\n",
       "    <tr style=\"text-align: right;\">\n",
       "      <th></th>\n",
       "      <th>board_id</th>\n",
       "      <th>image</th>\n",
       "    </tr>\n",
       "  </thead>\n",
       "  <tbody>\n",
       "    <tr>\n",
       "      <th>0</th>\n",
       "      <td>119134421331766936</td>\n",
       "      <td>58dcc5617e646ccd77205b4de9e01510.jpg</td>\n",
       "    </tr>\n",
       "    <tr>\n",
       "      <th>1</th>\n",
       "      <td>119134421331766936</td>\n",
       "      <td>0aa168f8b273fab6f840713aeb2972eb.jpg</td>\n",
       "    </tr>\n",
       "    <tr>\n",
       "      <th>2</th>\n",
       "      <td>119134421331766936</td>\n",
       "      <td>94cd90fd42a27abdd71b07dedd90aa9a.jpg</td>\n",
       "    </tr>\n",
       "    <tr>\n",
       "      <th>3</th>\n",
       "      <td>119134421331766936</td>\n",
       "      <td>682b2df3f7e6ee4885c1a12b59a81dfa.jpg</td>\n",
       "    </tr>\n",
       "    <tr>\n",
       "      <th>4</th>\n",
       "      <td>119134421331766936</td>\n",
       "      <td>5619b90d25f0adbec03ff9e201bf3d6a.jpg</td>\n",
       "    </tr>\n",
       "    <tr>\n",
       "      <th>...</th>\n",
       "      <td>...</td>\n",
       "      <td>...</td>\n",
       "    </tr>\n",
       "    <tr>\n",
       "      <th>2565237</th>\n",
       "      <td>99994122915443980</td>\n",
       "      <td>50647b1d02d3b04c05acc1434a3fe4a3.jpg</td>\n",
       "    </tr>\n",
       "    <tr>\n",
       "      <th>2565238</th>\n",
       "      <td>99994122915443980</td>\n",
       "      <td>d03db107d31874663326527713288065.png</td>\n",
       "    </tr>\n",
       "    <tr>\n",
       "      <th>2565239</th>\n",
       "      <td>99994122915443980</td>\n",
       "      <td>13c79f9743bbff71e83af8231f915f79.jpg</td>\n",
       "    </tr>\n",
       "    <tr>\n",
       "      <th>2565240</th>\n",
       "      <td>99994122915443980</td>\n",
       "      <td>b81ee77b98a2a842342dc1c46e8de653.jpg</td>\n",
       "    </tr>\n",
       "    <tr>\n",
       "      <th>2565241</th>\n",
       "      <td>99994122915443980</td>\n",
       "      <td>8e3e5ae353a2e8dc8c61c295ddc68b46.jpg</td>\n",
       "    </tr>\n",
       "  </tbody>\n",
       "</table>\n",
       "<p>2565242 rows × 2 columns</p>\n",
       "</div>"
      ],
      "text/plain": [
       "                   board_id                                 image\n",
       "0        119134421331766936  58dcc5617e646ccd77205b4de9e01510.jpg\n",
       "1        119134421331766936  0aa168f8b273fab6f840713aeb2972eb.jpg\n",
       "2        119134421331766936  94cd90fd42a27abdd71b07dedd90aa9a.jpg\n",
       "3        119134421331766936  682b2df3f7e6ee4885c1a12b59a81dfa.jpg\n",
       "4        119134421331766936  5619b90d25f0adbec03ff9e201bf3d6a.jpg\n",
       "...                     ...                                   ...\n",
       "2565237   99994122915443980  50647b1d02d3b04c05acc1434a3fe4a3.jpg\n",
       "2565238   99994122915443980  d03db107d31874663326527713288065.png\n",
       "2565239   99994122915443980  13c79f9743bbff71e83af8231f915f79.jpg\n",
       "2565240   99994122915443980  b81ee77b98a2a842342dc1c46e8de653.jpg\n",
       "2565241   99994122915443980  8e3e5ae353a2e8dc8c61c295ddc68b46.jpg\n",
       "\n",
       "[2565242 rows x 2 columns]"
      ]
     },
     "execution_count": 2,
     "metadata": {},
     "output_type": "execute_result"
    }
   ],
   "source": [
    "df"
   ]
  },
  {
   "cell_type": "markdown",
   "id": "d691f60b",
   "metadata": {},
   "source": [
    "**Cosine distance of vectors** - \n",
    "**Centered cosine (Pearson correlation)** - \n",
    "\n",
    "\n",
    "\n",
    "**Overfitting** - model fits the data too well and does poorly at predicting on new data.\n",
    "\n",
    "### User-Based vs Item-Based Collaborative Filtering \n",
    "\n",
    "**User-Based**- For users U, rating vectors are used to find sets of similar users and recommendations are determined based on those similar user's ratings. Users are grouped together, by similarities determined by matrices determined using euclidean distance, cosine distance or centered cosine (Pearson correlation)\n",
    "\n",
    "**Item-Based** - The predicted rating of user U for item I is determined based on the similarity of item I to other items the user has rated in the past. Faster and more accurate than user-based. Efficient because ratings for a single item change slower than a user's rating of different items. Works better when the rating matrix is sparse. \n",
    "\n",
    "Content Based Filtering - takes into account content information like genre\n",
    "\n",
    "\n",
    "### Dimmensionality reduction:\n",
    "\n",
    "**Matrix Factorization:** The breakdown of large matrices into smaller ones. A matrix A can be broken down into X * Y using m * p, p * n. Matrices X and Y can be multiplied only if they share a dimension p (both must have the same number of rows).  \n",
    "\n",
    "**Latent Factors** - "
   ]
  },
  {
   "cell_type": "markdown",
   "id": "41d08432",
   "metadata": {},
   "source": [
    "### Algorithms:\n",
    "\n",
    "**Singular Value Decomposition (SVD)** \n",
    "**PCA** \n",
    "**NFM**\n",
    "**Autoencoders (Neural Networks)** \n"
   ]
  },
  {
   "cell_type": "code",
   "execution_count": null,
   "id": "f6bc986d",
   "metadata": {},
   "outputs": [],
   "source": []
  }
 ],
 "metadata": {
  "kernelspec": {
   "display_name": "Python 3 (ipykernel)",
   "language": "python",
   "name": "python3"
  },
  "language_info": {
   "codemirror_mode": {
    "name": "ipython",
    "version": 3
   },
   "file_extension": ".py",
   "mimetype": "text/x-python",
   "name": "python",
   "nbconvert_exporter": "python",
   "pygments_lexer": "ipython3",
   "version": "3.11.1"
  }
 },
 "nbformat": 4,
 "nbformat_minor": 5
}
